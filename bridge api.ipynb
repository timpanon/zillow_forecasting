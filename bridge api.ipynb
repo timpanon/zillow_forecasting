{
 "cells": [
  {
   "cell_type": "code",
   "execution_count": 6,
   "metadata": {},
   "outputs": [],
   "source": [
    "import pandas as pd\n",
    "import requests "
   ]
  },
  {
   "cell_type": "code",
   "execution_count": 36,
   "metadata": {
    "scrolled": true
   },
   "outputs": [
    {
     "data": {
      "text/html": [
       "<div>\n",
       "<style scoped>\n",
       "    .dataframe tbody tr th:only-of-type {\n",
       "        vertical-align: middle;\n",
       "    }\n",
       "\n",
       "    .dataframe tbody tr th {\n",
       "        vertical-align: top;\n",
       "    }\n",
       "\n",
       "    .dataframe thead th {\n",
       "        text-align: right;\n",
       "    }\n",
       "</style>\n",
       "<table border=\"1\" class=\"dataframe\">\n",
       "  <thead>\n",
       "    <tr style=\"text-align: right;\">\n",
       "      <th></th>\n",
       "      <th>RegionID</th>\n",
       "      <th>SizeRank</th>\n",
       "      <th>RegionName</th>\n",
       "      <th>RegionType</th>\n",
       "      <th>StateName</th>\n",
       "      <th>State</th>\n",
       "      <th>City</th>\n",
       "      <th>Metro</th>\n",
       "      <th>CountyName</th>\n",
       "      <th>1/31/2000</th>\n",
       "      <th>...</th>\n",
       "      <th>4/30/2021</th>\n",
       "      <th>5/31/2021</th>\n",
       "      <th>6/30/2021</th>\n",
       "      <th>7/31/2021</th>\n",
       "      <th>8/31/2021</th>\n",
       "      <th>9/30/2021</th>\n",
       "      <th>10/31/2021</th>\n",
       "      <th>11/30/2021</th>\n",
       "      <th>12/31/2021</th>\n",
       "      <th>1/31/2022</th>\n",
       "    </tr>\n",
       "  </thead>\n",
       "  <tbody>\n",
       "    <tr>\n",
       "      <th>0</th>\n",
       "      <td>61639</td>\n",
       "      <td>0</td>\n",
       "      <td>10025</td>\n",
       "      <td>Zip</td>\n",
       "      <td>NY</td>\n",
       "      <td>NY</td>\n",
       "      <td>New York</td>\n",
       "      <td>New York-Newark-Jersey City</td>\n",
       "      <td>New York County</td>\n",
       "      <td>NaN</td>\n",
       "      <td>...</td>\n",
       "      <td>1801952.0</td>\n",
       "      <td>1809149.0</td>\n",
       "      <td>1807607.0</td>\n",
       "      <td>1854148.0</td>\n",
       "      <td>1886648.0</td>\n",
       "      <td>1929836.0</td>\n",
       "      <td>1930988.0</td>\n",
       "      <td>1933158.0</td>\n",
       "      <td>1930626</td>\n",
       "      <td>1945292</td>\n",
       "    </tr>\n",
       "    <tr>\n",
       "      <th>1</th>\n",
       "      <td>84654</td>\n",
       "      <td>1</td>\n",
       "      <td>60657</td>\n",
       "      <td>Zip</td>\n",
       "      <td>IL</td>\n",
       "      <td>IL</td>\n",
       "      <td>Chicago</td>\n",
       "      <td>Chicago-Naperville-Elgin</td>\n",
       "      <td>Cook County</td>\n",
       "      <td>385999.0</td>\n",
       "      <td>...</td>\n",
       "      <td>699982.0</td>\n",
       "      <td>700585.0</td>\n",
       "      <td>703470.0</td>\n",
       "      <td>707311.0</td>\n",
       "      <td>713125.0</td>\n",
       "      <td>716581.0</td>\n",
       "      <td>721111.0</td>\n",
       "      <td>726361.0</td>\n",
       "      <td>730556</td>\n",
       "      <td>733873</td>\n",
       "    </tr>\n",
       "    <tr>\n",
       "      <th>2</th>\n",
       "      <td>61637</td>\n",
       "      <td>2</td>\n",
       "      <td>10023</td>\n",
       "      <td>Zip</td>\n",
       "      <td>NY</td>\n",
       "      <td>NY</td>\n",
       "      <td>New York</td>\n",
       "      <td>New York-Newark-Jersey City</td>\n",
       "      <td>New York County</td>\n",
       "      <td>1380352.0</td>\n",
       "      <td>...</td>\n",
       "      <td>2524971.0</td>\n",
       "      <td>2554324.0</td>\n",
       "      <td>2568375.0</td>\n",
       "      <td>2605056.0</td>\n",
       "      <td>2642843.0</td>\n",
       "      <td>2685299.0</td>\n",
       "      <td>2686654.0</td>\n",
       "      <td>2684854.0</td>\n",
       "      <td>2676806</td>\n",
       "      <td>2683281</td>\n",
       "    </tr>\n",
       "    <tr>\n",
       "      <th>3</th>\n",
       "      <td>91982</td>\n",
       "      <td>3</td>\n",
       "      <td>77494</td>\n",
       "      <td>Zip</td>\n",
       "      <td>TX</td>\n",
       "      <td>TX</td>\n",
       "      <td>Katy</td>\n",
       "      <td>Houston-The Woodlands-Sugar Land</td>\n",
       "      <td>Harris County</td>\n",
       "      <td>224049.0</td>\n",
       "      <td>...</td>\n",
       "      <td>373436.0</td>\n",
       "      <td>380385.0</td>\n",
       "      <td>389122.0</td>\n",
       "      <td>399847.0</td>\n",
       "      <td>410716.0</td>\n",
       "      <td>419821.0</td>\n",
       "      <td>427763.0</td>\n",
       "      <td>434829.0</td>\n",
       "      <td>440555</td>\n",
       "      <td>446634</td>\n",
       "    </tr>\n",
       "    <tr>\n",
       "      <th>4</th>\n",
       "      <td>84616</td>\n",
       "      <td>4</td>\n",
       "      <td>60614</td>\n",
       "      <td>Zip</td>\n",
       "      <td>IL</td>\n",
       "      <td>IL</td>\n",
       "      <td>Chicago</td>\n",
       "      <td>Chicago-Naperville-Elgin</td>\n",
       "      <td>Cook County</td>\n",
       "      <td>505083.0</td>\n",
       "      <td>...</td>\n",
       "      <td>941275.0</td>\n",
       "      <td>939888.0</td>\n",
       "      <td>942903.0</td>\n",
       "      <td>946621.0</td>\n",
       "      <td>953340.0</td>\n",
       "      <td>957691.0</td>\n",
       "      <td>962573.0</td>\n",
       "      <td>970202.0</td>\n",
       "      <td>975939</td>\n",
       "      <td>981583</td>\n",
       "    </tr>\n",
       "  </tbody>\n",
       "</table>\n",
       "<p>5 rows × 274 columns</p>\n",
       "</div>"
      ],
      "text/plain": [
       "   RegionID  SizeRank  RegionName RegionType StateName State      City  \\\n",
       "0     61639         0       10025        Zip        NY    NY  New York   \n",
       "1     84654         1       60657        Zip        IL    IL   Chicago   \n",
       "2     61637         2       10023        Zip        NY    NY  New York   \n",
       "3     91982         3       77494        Zip        TX    TX      Katy   \n",
       "4     84616         4       60614        Zip        IL    IL   Chicago   \n",
       "\n",
       "                              Metro       CountyName  1/31/2000  ...  \\\n",
       "0       New York-Newark-Jersey City  New York County        NaN  ...   \n",
       "1          Chicago-Naperville-Elgin      Cook County   385999.0  ...   \n",
       "2       New York-Newark-Jersey City  New York County  1380352.0  ...   \n",
       "3  Houston-The Woodlands-Sugar Land    Harris County   224049.0  ...   \n",
       "4          Chicago-Naperville-Elgin      Cook County   505083.0  ...   \n",
       "\n",
       "   4/30/2021  5/31/2021  6/30/2021  7/31/2021  8/31/2021  9/30/2021  \\\n",
       "0  1801952.0  1809149.0  1807607.0  1854148.0  1886648.0  1929836.0   \n",
       "1   699982.0   700585.0   703470.0   707311.0   713125.0   716581.0   \n",
       "2  2524971.0  2554324.0  2568375.0  2605056.0  2642843.0  2685299.0   \n",
       "3   373436.0   380385.0   389122.0   399847.0   410716.0   419821.0   \n",
       "4   941275.0   939888.0   942903.0   946621.0   953340.0   957691.0   \n",
       "\n",
       "   10/31/2021  11/30/2021  12/31/2021  1/31/2022  \n",
       "0   1930988.0   1933158.0     1930626    1945292  \n",
       "1    721111.0    726361.0      730556     733873  \n",
       "2   2686654.0   2684854.0     2676806    2683281  \n",
       "3    427763.0    434829.0      440555     446634  \n",
       "4    962573.0    970202.0      975939     981583  \n",
       "\n",
       "[5 rows x 274 columns]"
      ]
     },
     "execution_count": 36,
     "metadata": {},
     "output_type": "execute_result"
    }
   ],
   "source": [
    "df = pd.read_csv('zillow_data.csv')\n",
    "df.head()"
   ]
  },
  {
   "cell_type": "code",
   "execution_count": 15,
   "metadata": {},
   "outputs": [
    {
     "data": {
      "text/plain": [
       "30441"
      ]
     },
     "execution_count": 15,
     "metadata": {},
     "output_type": "execute_result"
    }
   ],
   "source": [
    "df.RegionID.nunique()"
   ]
  },
  {
   "cell_type": "code",
   "execution_count": 28,
   "metadata": {},
   "outputs": [],
   "source": [
    "nj = df[df.State == 'NJ']"
   ]
  },
  {
   "cell_type": "code",
   "execution_count": 37,
   "metadata": {
    "scrolled": false
   },
   "outputs": [
    {
     "data": {
      "text/html": [
       "<div>\n",
       "<style scoped>\n",
       "    .dataframe tbody tr th:only-of-type {\n",
       "        vertical-align: middle;\n",
       "    }\n",
       "\n",
       "    .dataframe tbody tr th {\n",
       "        vertical-align: top;\n",
       "    }\n",
       "\n",
       "    .dataframe thead th {\n",
       "        text-align: right;\n",
       "    }\n",
       "</style>\n",
       "<table border=\"1\" class=\"dataframe\">\n",
       "  <thead>\n",
       "    <tr style=\"text-align: right;\">\n",
       "      <th></th>\n",
       "      <th>mean_price</th>\n",
       "    </tr>\n",
       "    <tr>\n",
       "      <th>time</th>\n",
       "      <th></th>\n",
       "    </tr>\n",
       "  </thead>\n",
       "  <tbody>\n",
       "    <tr>\n",
       "      <th>2000-01-31</th>\n",
       "      <td>152808.128938</td>\n",
       "    </tr>\n",
       "    <tr>\n",
       "      <th>2000-02-29</th>\n",
       "      <td>153270.343250</td>\n",
       "    </tr>\n",
       "    <tr>\n",
       "      <th>2000-03-31</th>\n",
       "      <td>153748.579815</td>\n",
       "    </tr>\n",
       "    <tr>\n",
       "      <th>2000-04-30</th>\n",
       "      <td>154866.091752</td>\n",
       "    </tr>\n",
       "    <tr>\n",
       "      <th>2000-05-31</th>\n",
       "      <td>156132.848980</td>\n",
       "    </tr>\n",
       "    <tr>\n",
       "      <th>...</th>\n",
       "      <td>...</td>\n",
       "    </tr>\n",
       "    <tr>\n",
       "      <th>2021-09-30</th>\n",
       "      <td>290770.535715</td>\n",
       "    </tr>\n",
       "    <tr>\n",
       "      <th>2021-10-31</th>\n",
       "      <td>293872.377580</td>\n",
       "    </tr>\n",
       "    <tr>\n",
       "      <th>2021-11-30</th>\n",
       "      <td>296737.552197</td>\n",
       "    </tr>\n",
       "    <tr>\n",
       "      <th>2021-12-31</th>\n",
       "      <td>300541.601393</td>\n",
       "    </tr>\n",
       "    <tr>\n",
       "      <th>2022-01-31</th>\n",
       "      <td>304707.291745</td>\n",
       "    </tr>\n",
       "  </tbody>\n",
       "</table>\n",
       "<p>265 rows × 1 columns</p>\n",
       "</div>"
      ],
      "text/plain": [
       "               mean_price\n",
       "time                     \n",
       "2000-01-31  152808.128938\n",
       "2000-02-29  153270.343250\n",
       "2000-03-31  153748.579815\n",
       "2000-04-30  154866.091752\n",
       "2000-05-31  156132.848980\n",
       "...                   ...\n",
       "2021-09-30  290770.535715\n",
       "2021-10-31  293872.377580\n",
       "2021-11-30  296737.552197\n",
       "2021-12-31  300541.601393\n",
       "2022-01-31  304707.291745\n",
       "\n",
       "[265 rows x 1 columns]"
      ]
     },
     "execution_count": 37,
     "metadata": {},
     "output_type": "execute_result"
    }
   ],
   "source": [
    "melted = pd.melt(df, id_vars=['RegionID','RegionName','RegionType','StateName','SizeRank', 'City', 'State', 'Metro', 'CountyName'], var_name='time')\n",
    "melted['time'] = pd.to_datetime(melted['time'], infer_datetime_format=True)\n",
    "df = melted[['RegionName','time','value']].rename(columns={'RegionName':'zip','value':'median_price'}).set_index('time')\n",
    "mean_price = df[['median_price']].groupby('time').median_price.mean().reset_index().rename(columns={'median_price':'mean_price'}).set_index('time')\n",
    "mean_price"
   ]
  },
  {
   "cell_type": "code",
   "execution_count": 38,
   "metadata": {},
   "outputs": [
    {
     "data": {
      "text/plain": [
       "<AxesSubplot:xlabel='time'>"
      ]
     },
     "execution_count": 38,
     "metadata": {},
     "output_type": "execute_result"
    },
    {
     "data": {
      "image/png": "[encoded data removed]",
      "text/plain": [
       "<Figure size 1584x576 with 1 Axes>"
      ]
     },
     "metadata": {
      "needs_background": "light"
     },
     "output_type": "display_data"
    }
   ],
   "source": [
    "mean_price.plot(figsize=(22,8))"
   ]
  },
  {
   "cell_type": "code",
   "execution_count": 27,
   "metadata": {},
   "outputs": [
    {
     "data": {
      "text/plain": [
       "13281    589740.0\n",
       "Name: 7/31/2017, dtype: float64"
      ]
     },
     "execution_count": 27,
     "metadata": {},
     "output_type": "execute_result"
    }
   ],
   "source": [
    "df[df.RegionName == 7058]['7/31/2017']"
   ]
  },
  {
   "cell_type": "code",
   "execution_count": 12,
   "metadata": {
    "scrolled": true
   },
   "outputs": [
    {
     "data": {
      "text/plain": [
       "403"
      ]
     },
     "execution_count": 12,
     "metadata": {},
     "output_type": "execute_result"
    }
   ],
   "source": [
    "username = 'cRfvGEfwLyRNGDaXazTR'\n",
    "secret = 'GGclHfoHGXYOQTUrj5ImRqJoBmIGBcURfSK3gOW4'\n",
    "access_token = '1a5f98e1da5600951512a91ff9284000'\n",
    "\n",
    "url = 'https://api.bridgedataoutput.com/api/v2/zgecon/type?access_token={{access_token}}&metadataType=metricType&limit=100'\n",
    "\n",
    "r = requests.get(url, )\n",
    "r.status_code"
   ]
  },
  {
   "cell_type": "code",
   "execution_count": 13,
   "metadata": {},
   "outputs": [
    {
     "data": {
      "text/plain": [
       "'{\"success\":false,\"status\":403,\"bundle\":{\"name\":\"AuthenticationError\",\"message\":\"Invalid access_token format\"}}'"
      ]
     },
     "execution_count": 13,
     "metadata": {},
     "output_type": "execute_result"
    }
   ],
   "source": [
    "r.text"
   ]
  },
  {
   "cell_type": "code",
   "execution_count": 4,
   "metadata": {},
   "outputs": [
    {
     "name": "stdout",
     "output_type": "stream",
     "text": [
      "<class 'pandas.core.frame.DataFrame'>\n",
      "RangeIndex: 95 entries, 0 to 94\n",
      "Data columns (total 54 columns):\n",
      " #   Column      Non-Null Count  Dtype  \n",
      "---  ------      --------------  -----  \n",
      " 0   RegionID    95 non-null     int64  \n",
      " 1   SizeRank    95 non-null     int64  \n",
      " 2   RegionName  95 non-null     object \n",
      " 3   RegionType  95 non-null     object \n",
      " 4   StateName   94 non-null     object \n",
      " 5   2018-01-31  94 non-null     float64\n",
      " 6   2018-02-28  94 non-null     float64\n",
      " 7   2018-03-31  94 non-null     float64\n",
      " 8   2018-04-30  94 non-null     float64\n",
      " 9   2018-05-31  94 non-null     float64\n",
      " 10  2018-06-30  94 non-null     float64\n",
      " 11  2018-07-31  94 non-null     float64\n",
      " 12  2018-08-31  94 non-null     float64\n",
      " 13  2018-09-30  95 non-null     float64\n",
      " 14  2018-10-31  95 non-null     float64\n",
      " 15  2018-11-30  95 non-null     float64\n",
      " 16  2018-12-31  95 non-null     float64\n",
      " 17  2019-01-31  95 non-null     float64\n",
      " 18  2019-02-28  95 non-null     float64\n",
      " 19  2019-03-31  95 non-null     float64\n",
      " 20  2019-04-30  95 non-null     float64\n",
      " 21  2019-05-31  95 non-null     float64\n",
      " 22  2019-06-30  95 non-null     float64\n",
      " 23  2019-07-31  95 non-null     float64\n",
      " 24  2019-08-31  95 non-null     float64\n",
      " 25  2019-09-30  95 non-null     float64\n",
      " 26  2019-10-31  95 non-null     float64\n",
      " 27  2019-11-30  95 non-null     float64\n",
      " 28  2019-12-31  95 non-null     float64\n",
      " 29  2020-01-31  95 non-null     float64\n",
      " 30  2020-02-29  95 non-null     float64\n",
      " 31  2020-03-31  95 non-null     float64\n",
      " 32  2020-04-30  95 non-null     float64\n",
      " 33  2020-05-31  95 non-null     float64\n",
      " 34  2020-06-30  95 non-null     float64\n",
      " 35  2020-07-31  95 non-null     float64\n",
      " 36  2020-08-31  95 non-null     float64\n",
      " 37  2020-09-30  93 non-null     float64\n",
      " 38  2020-10-31  93 non-null     float64\n",
      " 39  2020-11-30  92 non-null     float64\n",
      " 40  2020-12-31  94 non-null     float64\n",
      " 41  2021-01-31  84 non-null     float64\n",
      " 42  2021-02-28  85 non-null     float64\n",
      " 43  2021-03-31  85 non-null     float64\n",
      " 44  2021-04-30  85 non-null     float64\n",
      " 45  2021-05-31  85 non-null     float64\n",
      " 46  2021-06-30  85 non-null     float64\n",
      " 47  2021-07-31  85 non-null     float64\n",
      " 48  2021-08-31  85 non-null     float64\n",
      " 49  2021-09-30  85 non-null     float64\n",
      " 50  2021-10-31  85 non-null     float64\n",
      " 51  2021-11-30  85 non-null     float64\n",
      " 52  2021-12-31  85 non-null     float64\n",
      " 53  2022-01-31  85 non-null     float64\n",
      "dtypes: float64(49), int64(2), object(3)\n",
      "memory usage: 40.2+ KB\n"
     ]
    }
   ],
   "source": [
    "df.info()"
   ]
  },
  {
   "cell_type": "code",
   "execution_count": null,
   "metadata": {},
   "outputs": [],
   "source": []
  }
 ],
 "metadata": {
  "kernelspec": {
   "display_name": "Python 3",
   "language": "python",
   "name": "python3"
  },
  "language_info": {
   "codemirror_mode": {
    "name": "ipython",
    "version": 3
   },
   "file_extension": ".py",
   "mimetype": "text/x-python",
   "name": "python",
   "nbconvert_exporter": "python",
   "pygments_lexer": "ipython3",
   "version": "3.8.5"
  }
 },
 "nbformat": 4,
 "nbformat_minor": 4
}
